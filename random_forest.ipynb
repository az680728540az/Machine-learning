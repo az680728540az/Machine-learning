{
 "cells": [
  {
   "cell_type": "code",
   "execution_count": 26,
   "metadata": {
    "scrolled": false
   },
   "outputs": [
    {
     "name": "stdout",
     "output_type": "stream",
     "text": [
      "            0         1         2\n",
      "0    0.576093  0.004043  0.419864\n",
      "1    0.250959  0.599116  0.149925\n",
      "2    0.627269  0.000711  0.372020\n",
      "3    0.621397  0.011956  0.366648\n",
      "4    0.226736  0.649351  0.123913\n",
      "5    0.587123  0.001419  0.411458\n",
      "6    0.306741  0.507932  0.185326\n",
      "7    0.250959  0.599116  0.149925\n",
      "8    0.709487  0.021669  0.268844\n",
      "9    0.657191  0.080278  0.262531\n",
      "10   0.580334  0.013167  0.406498\n",
      "11   0.654910  0.000578  0.344512\n",
      "12   0.225744  0.645240  0.129016\n",
      "13   0.611424  0.000084  0.388492\n",
      "14   0.292644  0.547481  0.159875\n",
      "15   0.659904  0.000084  0.340012\n",
      "16   0.662451  0.086780  0.250769\n",
      "17   0.292644  0.547481  0.159875\n",
      "18   0.422092  0.303813  0.274095\n",
      "19   0.597217  0.000084  0.402699\n",
      "20   0.179511  0.718057  0.102432\n",
      "21   0.830569  0.001234  0.168198\n",
      "22   0.284537  0.547814  0.167649\n",
      "23   0.250130  0.596489  0.153380\n",
      "24   0.649113  0.000197  0.350691\n",
      "25   0.306741  0.507932  0.185326\n",
      "26   0.201045  0.687424  0.111531\n",
      "27   0.306741  0.507932  0.185326\n",
      "28   0.172469  0.547752  0.279779\n",
      "29   0.302331  0.513213  0.184456\n",
      "..        ...       ...       ...\n",
      "270  0.824432  0.000000  0.175568\n",
      "271  0.650960  0.000217  0.348823\n",
      "272  0.637385  0.000192  0.362423\n",
      "273  0.710170  0.007196  0.282634\n",
      "274  0.604295  0.001234  0.394472\n",
      "275  0.181771  0.710922  0.107307\n",
      "276  0.425979  0.311417  0.262604\n",
      "277  0.568940  0.027373  0.403687\n",
      "278  0.608091  0.001419  0.390489\n",
      "279  0.287954  0.546474  0.165572\n",
      "280  0.306741  0.507932  0.185326\n",
      "281  0.306525  0.507374  0.186101\n",
      "282  0.604295  0.001234  0.394472\n",
      "283  0.621269  0.087155  0.291576\n",
      "284  0.830569  0.001234  0.168198\n",
      "285  0.422918  0.216989  0.360093\n",
      "286  0.545033  0.003126  0.451842\n",
      "287  0.584910  0.003126  0.411964\n",
      "288  0.664172  0.050837  0.284990\n",
      "289  0.769125  0.017740  0.213135\n",
      "290  0.605387  0.000084  0.394529\n",
      "291  0.193045  0.691427  0.115528\n",
      "292  0.309401  0.515041  0.175558\n",
      "293  0.790019  0.019808  0.190173\n",
      "294  0.646218  0.001177  0.352606\n",
      "295  0.657191  0.080278  0.262531\n",
      "296  0.470592  0.264205  0.265203\n",
      "297  0.701067  0.043277  0.255656\n",
      "298  0.427602  0.360605  0.211793\n",
      "299  0.637385  0.000192  0.362423\n",
      "\n",
      "[300 rows x 3 columns]\n"
     ]
    },
    {
     "name": "stderr",
     "output_type": "stream",
     "text": [
      "D:\\ProgramData\\Anaconda3\\lib\\site-packages\\ipykernel_launcher.py:27: DataConversionWarning: A column-vector y was passed when a 1d array was expected. Please change the shape of y to (n_samples,), for example using ravel().\n"
     ]
    }
   ],
   "source": [
    "import csv\n",
    "import numpy as np\n",
    "import pandas as pd\n",
    "from sklearn.datasets import load_digits\n",
    "from sklearn import ensemble, preprocessing, metrics\n",
    "\n",
    "train = pd.read_csv(\"train.csv\", header=None)\n",
    "train = train.fillna(0) \n",
    "df = pd.DataFrame(train)\n",
    "X = df.drop(df.index[0])\n",
    "X = X.drop([0,47], axis=1)\n",
    "y = df.drop(df.index[0])\n",
    "y = y.drop([0,1,2,3,4,5,6,7,8,9,10,11,12,13,14,15,16,17,18,19,20,21,22,23,24,25,26,27,28,29,30,31,32,33,34,35,36,37,38,39,40,41,42,43,44,45,46], axis=1 )\n",
    "# X = X.astype(int)\n",
    "# X = np.array(X)\n",
    "# print(np.shape(y))\n",
    "res  = [] \n",
    "test = pd.read_csv(\"test.csv\", header=None)\n",
    "test = test.fillna(0) \n",
    "df2 = pd.DataFrame(test)\n",
    "a = df2.drop(df2.index[0])\n",
    "a = a.drop([0], axis=1 )\n",
    "a = a.astype(int)\n",
    "a = np.array(a)\n",
    "\n",
    "clf = ensemble.RandomForestClassifier(n_estimators = 100,min_samples_leaf=10)\n",
    "clf.fit(X, y)\n",
    "\n",
    "b = clf.predict_proba(a)\n",
    "b = pd.DataFrame(b)\n",
    "\n",
    "# b.to_csv(\"out.csv\",index=False,sep=',')\n",
    "# print(np.shape(y))\n",
    "print(b)"
   ]
  },
  {
   "cell_type": "code",
   "execution_count": 25,
   "metadata": {},
   "outputs": [],
   "source": [
    "b.to_csv(\"out.csv\",index=False,sep=',')"
   ]
  },
  {
   "cell_type": "code",
   "execution_count": null,
   "metadata": {},
   "outputs": [],
   "source": []
  },
  {
   "cell_type": "code",
   "execution_count": null,
   "metadata": {},
   "outputs": [],
   "source": []
  }
 ],
 "metadata": {
  "kernelspec": {
   "display_name": "Python 3",
   "language": "python",
   "name": "python3"
  },
  "language_info": {
   "codemirror_mode": {
    "name": "ipython",
    "version": 3
   },
   "file_extension": ".py",
   "mimetype": "text/x-python",
   "name": "python",
   "nbconvert_exporter": "python",
   "pygments_lexer": "ipython3",
   "version": "3.7.3"
  }
 },
 "nbformat": 4,
 "nbformat_minor": 2
}
