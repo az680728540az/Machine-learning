{
 "cells": [
  {
   "cell_type": "code",
   "execution_count": 36,
   "metadata": {
    "scrolled": true
   },
   "outputs": [
    {
     "name": "stderr",
     "output_type": "stream",
     "text": [
      "D:\\ProgramData\\Anaconda3\\lib\\site-packages\\sklearn\\utils\\validation.py:724: DataConversionWarning: A column-vector y was passed when a 1d array was expected. Please change the shape of y to (n_samples, ), for example using ravel().\n",
      "  y = column_or_1d(y, warn=True)\n"
     ]
    },
    {
     "data": {
      "text/plain": [
       "array(['1', '2', '1', '1', '2', '1', '2', '2', '1', '1', '1', '1', '2',\n",
       "       '1', '2', '1', '1', '2', '1', '1', '2', '1', '2', '2', '1', '2',\n",
       "       '2', '2', '2', '2', '1', '2', '1', '1', '1', '2', '1', '1', '2',\n",
       "       '2', '1', '3', '2', '2', '1', '1', '1', '1', '2', '1', '1', '2',\n",
       "       '1', '1', '2', '1', '1', '2', '1', '1', '2', '1', '1', '1', '3',\n",
       "       '2', '2', '1', '1', '1', '3', '2', '2', '2', '1', '1', '2', '2',\n",
       "       '1', '1', '2', '1', '1', '3', '2', '1', '1', '1', '3', '1', '2',\n",
       "       '1', '1', '2', '1', '2', '2', '1', '1', '1', '2', '2', '2', '2',\n",
       "       '1', '1', '1', '1', '1', '2', '1', '1', '1', '2', '3', '1', '1',\n",
       "       '1', '2', '2', '1', '2', '1', '3', '1', '3', '1', '1', '1', '2',\n",
       "       '1', '2', '2', '2', '2', '1', '2', '1', '1', '2', '1', '1', '1',\n",
       "       '1', '1', '1', '2', '1', '2', '1', '2', '1', '1', '1', '1', '1',\n",
       "       '1', '1', '2', '2', '2', '2', '1', '1', '1', '1', '2', '2', '1',\n",
       "       '2', '1', '1', '2', '2', '1', '1', '2', '1', '2', '1', '2', '1',\n",
       "       '1', '1', '1', '2', '1', '1', '1', '2', '2', '2', '1', '1', '1',\n",
       "       '2', '1', '2', '2', '1', '3', '2', '2', '1', '2', '1', '2', '1',\n",
       "       '1', '1', '1', '2', '1', '1', '1', '1', '2', '1', '2', '2', '1',\n",
       "       '1', '2', '1', '1', '2', '1', '2', '1', '1', '3', '2', '1', '1',\n",
       "       '1', '1', '1', '1', '1', '1', '1', '1', '2', '1', '2', '2', '1',\n",
       "       '1', '1', '1', '2', '1', '1', '1', '1', '1', '2', '1', '2', '2',\n",
       "       '1', '2', '1', '1', '1', '1', '1', '2', '1', '1', '1', '1', '1',\n",
       "       '1', '1', '2', '2', '1', '1', '2', '2', '2', '1', '1', '1', '3',\n",
       "       '3', '1', '1', '1', '1', '2', '2', '1', '1', '1', '2', '1', '2',\n",
       "       '1'], dtype='<U1')"
      ]
     },
     "execution_count": 36,
     "metadata": {},
     "output_type": "execute_result"
    }
   ],
   "source": [
    "import csv\n",
    "import numpy as np\n",
    "import pandas as pd\n",
    "from sklearn.metrics import confusion_matrix\n",
    "from sklearn.datasets import load_digits\n",
    "from sklearn.linear_model import Perceptron\n",
    "\n",
    "train = pd.read_csv(\"train.csv\", header=None)\n",
    "train = train.fillna(0) \n",
    "df = pd.DataFrame(train)\n",
    "X = df.drop(df.index[0])\n",
    "X = X.drop([0,47], axis=1)\n",
    "y = df.drop(df.index[0])\n",
    "y = y.drop([0,1,2,3,4,5,6,7,8,9,10,11,12,13,14,15,16,17,18,19,20,21,22,23,24,25,26,27,28,29,30,31,32,33,34,35,36,37,38,39,40,41,42,43,44,45,46], axis=1 )\n",
    "# X = X.astype(int)\n",
    "# X = np.array(X)\n",
    "# print(np.shape(y))\n",
    "res  = [] \n",
    "test = pd.read_csv(\"test.csv\", header=None)\n",
    "test = test.fillna(0) \n",
    "df2 = pd.DataFrame(test)\n",
    "a = df2.drop(df2.index[0])\n",
    "a = a.drop([0], axis=1 )\n",
    "a = a.astype(int)\n",
    "a = np.array(a)\n",
    "\n",
    "clf = Perceptron(tol=1e-3, random_state=0)\n",
    "clf.fit(X, y)\n",
    "\n",
    "clf.predict(a)\n"
   ]
  },
  {
   "cell_type": "code",
   "execution_count": null,
   "metadata": {},
   "outputs": [],
   "source": []
  }
 ],
 "metadata": {
  "kernelspec": {
   "display_name": "Python 3",
   "language": "python",
   "name": "python3"
  },
  "language_info": {
   "codemirror_mode": {
    "name": "ipython",
    "version": 3
   },
   "file_extension": ".py",
   "mimetype": "text/x-python",
   "name": "python",
   "nbconvert_exporter": "python",
   "pygments_lexer": "ipython3",
   "version": "3.7.3"
  }
 },
 "nbformat": 4,
 "nbformat_minor": 2
}
